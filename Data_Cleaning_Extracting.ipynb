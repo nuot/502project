{
 "cells": [
  {
   "cell_type": "markdown",
   "metadata": {},
   "source": [
    "# <center> **502 Project** </center>\n",
    "### <center> Team member: Chenxi Liu, Nuo Tian, Mengyu Liu, Yuan Liu </center>\n",
    "\n",
    "### Data Selection: \n",
    "#### Yahoo News Data Set (Part 1 and 2of 35) \n",
    "#### This part of code is the extract data from s3 and data cleaning for future modeling\n",
    "\n"
   ]
  },
  {
   "cell_type": "code",
   "execution_count": 2,
   "metadata": {},
   "outputs": [
    {
     "data": {
      "text/html": [
       "\n",
       "        <div>\n",
       "            <p><b>SparkContext</b></p>\n",
       "\n",
       "            <p><a href=\"http://ip-172-31-3-56.ec2.internal:4040\">Spark UI</a></p>\n",
       "\n",
       "            <dl>\n",
       "              <dt>Version</dt>\n",
       "                <dd><code>v2.4.4</code></dd>\n",
       "              <dt>Master</dt>\n",
       "                <dd><code>yarn</code></dd>\n",
       "              <dt>AppName</dt>\n",
       "                <dd><code>SparkSession</code></dd>\n",
       "            </dl>\n",
       "        </div>\n",
       "        "
      ],
      "text/plain": [
       "<SparkContext master=yarn appName=SparkSession>"
      ]
     },
     "execution_count": 2,
     "metadata": {},
     "output_type": "execute_result"
    }
   ],
   "source": [
    "### initialize spark environment\n",
    "import findspark\n",
    "findspark.init()\n",
    "from pyspark import SparkContext\n",
    "from pyspark.sql import SparkSession\n",
    "spark = SparkSession.builder \\\n",
    "     .appName(\"SparkSession\") \\\n",
    "     .getOrCreate()\n",
    "\n",
    "sc = spark.sparkContext \n",
    "sc"
   ]
  },
  {
   "cell_type": "code",
   "execution_count": 118,
   "metadata": {},
   "outputs": [],
   "source": [
    "from pyspark.sql.types import StructType, StructField, IntegerType, StringType\n",
    "\n",
    "schema = StructType([\n",
    "    StructField(\"article_type\", StringType(), True),\n",
    "    StructField(\"np1\", StringType(), True),\n",
    "    StructField(\"np2\", StringType(), True),\n",
    "    StructField(\"context\", StringType(), True),\n",
    "    StructField(\"source\", StringType(), True),\n",
    "    StructField(\"category\", StringType(), True),\n",
    "    StructField(\"location\", StringType(), True),\n",
    "    StructField(\"time\", StringType(), True),])"
   ]
  },
  {
   "cell_type": "code",
   "execution_count": 119,
   "metadata": {},
   "outputs": [],
   "source": [
    "df = spark.read.csv(\"s3://anly502project/data/part-r-00080\",sep = \"\\t\",header=False,schema=schema)"
   ]
  },
  {
   "cell_type": "code",
   "execution_count": 124,
   "metadata": {},
   "outputs": [
    {
     "name": "stdout",
     "output_type": "stream",
     "text": [
      "root\n",
      " |-- article_type: string (nullable = true)\n",
      " |-- np1: string (nullable = true)\n",
      " |-- np2: string (nullable = true)\n",
      " |-- context: string (nullable = true)\n",
      " |-- source: string (nullable = true)\n",
      " |-- category: string (nullable = true)\n",
      " |-- location: string (nullable = true)\n",
      " |-- time: string (nullable = true)\n",
      "\n"
     ]
    }
   ],
   "source": [
    "#### Data Schema\n",
    "df.printSchema()"
   ]
  },
  {
   "cell_type": "code",
   "execution_count": 123,
   "metadata": {},
   "outputs": [
    {
     "name": "stdout",
     "output_type": "stream",
     "text": [
      "+------------+------------+---+--------------------+------+--------------------+--------------------+-----+\n",
      "|article_type|         np1|np2|             context|source|            category|            location| time|\n",
      "+------------+------------+---+--------------------+------+--------------------+--------------------+-----+\n",
      "|     article|0.86 percent|  1|arg2 basis point ...|      |             topstor|                   ,|14628|\n",
      "|            |0.51 seconds|  1|arg2 minute and arg1|      |   localnews topstor| , rhode island u...|13901|\n",
      "|     article|0.02 percent|  1|   arg2 cent or arg1|      |topstor,business,...| lakeland, florid...|14677|\n",
      "|            |0.51 seconds|  1|arg2 minute and arg1|      |   localnews topstor| , rhode island u...|13902|\n",
      "|     article|0.57 percent|  1|arg2 basis point ...|      |             topstor|                   ,|14746|\n",
      "|     article|0.86 percent|  1|arg2 basis point ...|      |topstor,business,...|                   ,|14777|\n",
      "|            |0.51 seconds|  1|arg2 minute and arg1|      |   localnews topstor| , rhode island u...|13902|\n",
      "|     article|0.02 percent|  1|   arg2 cent or arg1|      |             topstor| lakeland, florid...|14399|\n",
      "|     article|0.02 percent|  1|   arg2 cent or arg1|      |             topstor| lakeland, florid...|14524|\n",
      "|     article|0.86 percent|  1|arg2 basis point ...|      |topstor,business,...|                   ,|14777|\n",
      "+------------+------------+---+--------------------+------+--------------------+--------------------+-----+\n",
      "only showing top 10 rows\n",
      "\n"
     ]
    }
   ],
   "source": [
    "df.show(10)"
   ]
  },
  {
   "cell_type": "code",
   "execution_count": 129,
   "metadata": {},
   "outputs": [],
   "source": [
    "####Drop unrelated Column\n",
    "df = df.drop(\"source\").drop(\"article_type\").drop(\"location\").drop(\"time\")"
   ]
  },
  {
   "cell_type": "code",
   "execution_count": 130,
   "metadata": {},
   "outputs": [
    {
     "name": "stdout",
     "output_type": "stream",
     "text": [
      "+------------+---+--------------------+--------------------+\n",
      "|         np1|np2|             context|            category|\n",
      "+------------+---+--------------------+--------------------+\n",
      "|0.86 percent|  1|arg2 basis point ...|             topstor|\n",
      "|0.51 seconds|  1|arg2 minute and arg1|   localnews topstor|\n",
      "|0.02 percent|  1|   arg2 cent or arg1|topstor,business,...|\n",
      "|0.51 seconds|  1|arg2 minute and arg1|   localnews topstor|\n",
      "|0.57 percent|  1|arg2 basis point ...|             topstor|\n",
      "|0.86 percent|  1|arg2 basis point ...|topstor,business,...|\n",
      "|0.51 seconds|  1|arg2 minute and arg1|   localnews topstor|\n",
      "|0.02 percent|  1|   arg2 cent or arg1|             topstor|\n",
      "|0.02 percent|  1|   arg2 cent or arg1|             topstor|\n",
      "|0.86 percent|  1|arg2 basis point ...|topstor,business,...|\n",
      "+------------+---+--------------------+--------------------+\n",
      "only showing top 10 rows\n",
      "\n"
     ]
    }
   ],
   "source": [
    "df.show(10)"
   ]
  },
  {
   "cell_type": "code",
   "execution_count": 134,
   "metadata": {},
   "outputs": [],
   "source": [
    "from pyspark.sql.functions import split\n",
    "split_col = split(df['category'], ',')\n",
    "df = df.withColumn('category', split_col.getItem(0))"
   ]
  },
  {
   "cell_type": "code",
   "execution_count": 136,
   "metadata": {},
   "outputs": [
    {
     "name": "stdout",
     "output_type": "stream",
     "text": [
      "+------------+---+--------------------+-----------------+\n",
      "|         np1|np2|             context|         category|\n",
      "+------------+---+--------------------+-----------------+\n",
      "|0.86 percent|  1|arg2 basis point ...|          topstor|\n",
      "|0.51 seconds|  1|arg2 minute and arg1|localnews topstor|\n",
      "|0.02 percent|  1|   arg2 cent or arg1|          topstor|\n",
      "|0.51 seconds|  1|arg2 minute and arg1|localnews topstor|\n",
      "|0.57 percent|  1|arg2 basis point ...|          topstor|\n",
      "|0.86 percent|  1|arg2 basis point ...|          topstor|\n",
      "|0.51 seconds|  1|arg2 minute and arg1|localnews topstor|\n",
      "|0.02 percent|  1|   arg2 cent or arg1|          topstor|\n",
      "|0.02 percent|  1|   arg2 cent or arg1|          topstor|\n",
      "|0.86 percent|  1|arg2 basis point ...|          topstor|\n",
      "+------------+---+--------------------+-----------------+\n",
      "only showing top 10 rows\n",
      "\n"
     ]
    }
   ],
   "source": [
    "df.show(10)"
   ]
  },
  {
   "cell_type": "code",
   "execution_count": 142,
   "metadata": {},
   "outputs": [],
   "source": [
    "split_col_2 = split(df['category'], ' ')\n",
    "df = df.withColumn('category', split_col_2.getItem(0))"
   ]
  },
  {
   "cell_type": "code",
   "execution_count": 143,
   "metadata": {},
   "outputs": [
    {
     "name": "stdout",
     "output_type": "stream",
     "text": [
      "+------------+---+--------------------+---------+\n",
      "|         np1|np2|             context| category|\n",
      "+------------+---+--------------------+---------+\n",
      "|0.86 percent|  1|arg2 basis point ...|  topstor|\n",
      "|0.51 seconds|  1|arg2 minute and arg1|localnews|\n",
      "|0.02 percent|  1|   arg2 cent or arg1|  topstor|\n",
      "|0.51 seconds|  1|arg2 minute and arg1|localnews|\n",
      "|0.57 percent|  1|arg2 basis point ...|  topstor|\n",
      "|0.86 percent|  1|arg2 basis point ...|  topstor|\n",
      "|0.51 seconds|  1|arg2 minute and arg1|localnews|\n",
      "|0.02 percent|  1|   arg2 cent or arg1|  topstor|\n",
      "|0.02 percent|  1|   arg2 cent or arg1|  topstor|\n",
      "|0.86 percent|  1|arg2 basis point ...|  topstor|\n",
      "+------------+---+--------------------+---------+\n",
      "only showing top 10 rows\n",
      "\n"
     ]
    }
   ],
   "source": [
    "df.show(10)"
   ]
  },
  {
   "cell_type": "code",
   "execution_count": 145,
   "metadata": {},
   "outputs": [],
   "source": [
    "split_col_3 = split(df['category'], '_')\n",
    "df = df.withColumn('category', split_col_3.getItem(0))"
   ]
  },
  {
   "cell_type": "code",
   "execution_count": 146,
   "metadata": {},
   "outputs": [],
   "source": [
    "split_col_4 = split(df['category'], '-')\n",
    "df = df.withColumn('category', split_col_4.getItem(0))"
   ]
  },
  {
   "cell_type": "code",
   "execution_count": 147,
   "metadata": {},
   "outputs": [
    {
     "name": "stdout",
     "output_type": "stream",
     "text": [
      "+------------+---+--------------------+---------+\n",
      "|         np1|np2|             context| category|\n",
      "+------------+---+--------------------+---------+\n",
      "|0.86 percent|  1|arg2 basis point ...|  topstor|\n",
      "|0.51 seconds|  1|arg2 minute and arg1|localnews|\n",
      "|0.02 percent|  1|   arg2 cent or arg1|  topstor|\n",
      "|0.51 seconds|  1|arg2 minute and arg1|localnews|\n",
      "|0.57 percent|  1|arg2 basis point ...|  topstor|\n",
      "|0.86 percent|  1|arg2 basis point ...|  topstor|\n",
      "|0.51 seconds|  1|arg2 minute and arg1|localnews|\n",
      "|0.02 percent|  1|   arg2 cent or arg1|  topstor|\n",
      "|0.02 percent|  1|   arg2 cent or arg1|  topstor|\n",
      "|0.86 percent|  1|arg2 basis point ...|  topstor|\n",
      "+------------+---+--------------------+---------+\n",
      "only showing top 10 rows\n",
      "\n"
     ]
    }
   ],
   "source": [
    "df.show(10)"
   ]
  },
  {
   "cell_type": "code",
   "execution_count": null,
   "metadata": {},
   "outputs": [],
   "source": [
    "df.groupBy(\"category\").count().orderBy(count).show()"
   ]
  },
  {
   "cell_type": "code",
   "execution_count": null,
   "metadata": {},
   "outputs": [],
   "source": []
  }
 ],
 "metadata": {
  "kernelspec": {
   "display_name": "Python 3",
   "language": "python",
   "name": "python3"
  },
  "language_info": {
   "codemirror_mode": {
    "name": "ipython",
    "version": 3
   },
   "file_extension": ".py",
   "mimetype": "text/x-python",
   "name": "python",
   "nbconvert_exporter": "python",
   "pygments_lexer": "ipython3",
   "version": "3.7.6"
  }
 },
 "nbformat": 4,
 "nbformat_minor": 4
}
