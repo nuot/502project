{
 "cells": [
  {
   "cell_type": "markdown",
   "metadata": {},
   "source": [
    "# <center> **502 Project** </center>\n",
    "### <center> Team member: Chenxi Liu, Nuo Tian, Mengyu Liu, Yuan Liu </center>\n",
    "\n",
    "### Data Selection: \n",
    "#### Yahoo News Data Set (Part 1 and 2of 35) \n",
    "\n",
    "\n"
   ]
  },
  {
   "cell_type": "markdown",
   "metadata": {},
   "source": [
    "### STEP 1 : Data Extracting and Processing "
   ]
  },
  {
   "cell_type": "code",
   "execution_count": 1,
   "metadata": {},
   "outputs": [
    {
     "data": {
      "text/html": [
       "\n",
       "        <div>\n",
       "            <p><b>SparkContext</b></p>\n",
       "\n",
       "            <p><a href=\"http://ip-172-31-6-8.ec2.internal:4040\">Spark UI</a></p>\n",
       "\n",
       "            <dl>\n",
       "              <dt>Version</dt>\n",
       "                <dd><code>v2.4.4</code></dd>\n",
       "              <dt>Master</dt>\n",
       "                <dd><code>yarn</code></dd>\n",
       "              <dt>AppName</dt>\n",
       "                <dd><code>SparkSession</code></dd>\n",
       "            </dl>\n",
       "        </div>\n",
       "        "
      ],
      "text/plain": [
       "<SparkContext master=yarn appName=SparkSession>"
      ]
     },
     "execution_count": 1,
     "metadata": {},
     "output_type": "execute_result"
    }
   ],
   "source": [
    "### initialize spark environment\n",
    "import findspark\n",
    "findspark.init()\n",
    "from pyspark import SparkContext\n",
    "from pyspark.sql import SparkSession\n",
    "spark = SparkSession.builder \\\n",
    "     .appName(\"SparkSession\") \\\n",
    "     .getOrCreate()\n",
    "\n",
    "sc = spark.sparkContext \n",
    "sc"
   ]
  },
  {
   "cell_type": "markdown",
   "metadata": {},
   "source": [
    "#### 1. Build Schema Using the README Instruction of the Data Set \n",
    "#### "
   ]
  },
  {
   "cell_type": "code",
   "execution_count": 2,
   "metadata": {},
   "outputs": [],
   "source": [
    "from pyspark.sql.types import StructType, StructField, IntegerType, StringType\n",
    "\n",
    "schema = StructType([\n",
    "    StructField(\"article_type\", StringType(), True),\n",
    "    StructField(\"np1\", StringType(), True),\n",
    "    StructField(\"np2\", StringType(), True),\n",
    "    StructField(\"context\", StringType(), True),\n",
    "    StructField(\"source\", StringType(), True),\n",
    "    StructField(\"category\", StringType(), True),\n",
    "    StructField(\"location\", StringType(), True),\n",
    "    StructField(\"time\", StringType(), True),])"
   ]
  },
  {
   "cell_type": "markdown",
   "metadata": {},
   "source": [
    "#### 2. Readin the Data Set \n",
    "#### "
   ]
  },
  {
   "cell_type": "code",
   "execution_count": 3,
   "metadata": {},
   "outputs": [],
   "source": [
    "df = spark.read.csv(\"s3://anly502project/data/part-r-00000\",sep = \"\\t\",header=False,schema=schema)\n",
    "df_2 = spark.read.csv(\"s3://anly502project/data/part-r-00001\",sep = \"\\t\",header=False,schema=schema)"
   ]
  },
  {
   "cell_type": "markdown",
   "metadata": {},
   "source": [
    "#### 3. Verify the Schema \n",
    "#### "
   ]
  },
  {
   "cell_type": "code",
   "execution_count": 4,
   "metadata": {},
   "outputs": [
    {
     "name": "stdout",
     "output_type": "stream",
     "text": [
      "root\n",
      " |-- article_type: string (nullable = true)\n",
      " |-- np1: string (nullable = true)\n",
      " |-- np2: string (nullable = true)\n",
      " |-- context: string (nullable = true)\n",
      " |-- source: string (nullable = true)\n",
      " |-- category: string (nullable = true)\n",
      " |-- location: string (nullable = true)\n",
      " |-- time: string (nullable = true)\n",
      "\n",
      "root\n",
      " |-- article_type: string (nullable = true)\n",
      " |-- np1: string (nullable = true)\n",
      " |-- np2: string (nullable = true)\n",
      " |-- context: string (nullable = true)\n",
      " |-- source: string (nullable = true)\n",
      " |-- category: string (nullable = true)\n",
      " |-- location: string (nullable = true)\n",
      " |-- time: string (nullable = true)\n",
      "\n"
     ]
    }
   ],
   "source": [
    "#### Data Schema\n",
    "df.printSchema()\n",
    "df_2.printSchema()"
   ]
  },
  {
   "cell_type": "markdown",
   "metadata": {},
   "source": [
    "#### 4. Combine the Data Set\n",
    "#### "
   ]
  },
  {
   "cell_type": "code",
   "execution_count": 7,
   "metadata": {},
   "outputs": [],
   "source": [
    "import functools \n",
    "\n",
    "def unionAll(dfs):\n",
    "    return functools.reduce(lambda df1,df2: df1.union(df2.select(df1.columns)), dfs) "
   ]
  },
  {
   "cell_type": "code",
   "execution_count": 8,
   "metadata": {},
   "outputs": [],
   "source": [
    "unioned_df = unionAll([df, df_2])\n"
   ]
  },
  {
   "cell_type": "code",
   "execution_count": 9,
   "metadata": {},
   "outputs": [
    {
     "name": "stdout",
     "output_type": "stream",
     "text": [
      "+------------+---------------+---+--------------------+-------------+--------------------+--------------------+-----+\n",
      "|article_type|            np1|np2|             context|       source|            category|            location| time|\n",
      "+------------+---------------+---+--------------------+-------------+--------------------+--------------------+-----+\n",
      "|     article|    Dark Knight|  E|  arg1 and Wall arg2|             |intlnews topstor ...|      , kerala india|14299|\n",
      "|     article|    Carotenoids|  E|arg1 and caroteno...|             |topstor,health,sc...|                   ,|14660|\n",
      "|     article|    Communities|  E|arg1 mobilised in...|             |    politics topstor|                   ,|14026|\n",
      "|     article|    Carotenoids|  E|arg1 and caroteno...|             |topstor,health,sc...|                   ,|14660|\n",
      "|            |     Coast bias|  E|arg2 is for East ...|             |      sports topstor| columbus, ohio u...|13956|\n",
      "|     article|Commerce office|  E|arg1 at DDD Linco...|             |topstor,lifestle,...| canton, ohio uni...|14363|\n",
      "|     article| 75-minute mark|  E|arg1 in a pulsati...|Yahoo! Sports|      topstor,sports|                   ,|14779|\n",
      "|     article| Brigham Circle|  E|      arg2 past arg1|             |             topstor| boston, massachu...|14434|\n",
      "|            | Brigham Circle|  E| arg2 trains at arg1|             |localnews headlin...| boston, massachu...|13862|\n",
      "|     article| Brigham Circle|  E|arg2 line service...|             |             topstor| boston, massachu...|14344|\n",
      "+------------+---------------+---+--------------------+-------------+--------------------+--------------------+-----+\n",
      "only showing top 10 rows\n",
      "\n"
     ]
    }
   ],
   "source": [
    "#### show combined\n",
    "unioned_df.show(10)"
   ]
  },
  {
   "cell_type": "code",
   "execution_count": 10,
   "metadata": {},
   "outputs": [
    {
     "data": {
      "text/plain": [
       "196017242"
      ]
     },
     "execution_count": 10,
     "metadata": {},
     "output_type": "execute_result"
    }
   ],
   "source": [
    "#### show number of the rows \n",
    "unioned_df.count()"
   ]
  },
  {
   "cell_type": "code",
   "execution_count": 11,
   "metadata": {},
   "outputs": [],
   "source": [
    "####Drop unrelated Column\n",
    "unioned_df = unioned_df.drop(\"source\").drop(\"article_type\").drop(\"location\").drop(\"time\")"
   ]
  },
  {
   "cell_type": "code",
   "execution_count": 12,
   "metadata": {},
   "outputs": [
    {
     "name": "stdout",
     "output_type": "stream",
     "text": [
      "+---------------+---+--------------------+--------------------+\n",
      "|            np1|np2|             context|            category|\n",
      "+---------------+---+--------------------+--------------------+\n",
      "|    Dark Knight|  E|  arg1 and Wall arg2|intlnews topstor ...|\n",
      "|    Carotenoids|  E|arg1 and caroteno...|topstor,health,sc...|\n",
      "|    Communities|  E|arg1 mobilised in...|    politics topstor|\n",
      "|    Carotenoids|  E|arg1 and caroteno...|topstor,health,sc...|\n",
      "|     Coast bias|  E|arg2 is for East ...|      sports topstor|\n",
      "|Commerce office|  E|arg1 at DDD Linco...|topstor,lifestle,...|\n",
      "| 75-minute mark|  E|arg1 in a pulsati...|      topstor,sports|\n",
      "| Brigham Circle|  E|      arg2 past arg1|             topstor|\n",
      "| Brigham Circle|  E| arg2 trains at arg1|localnews headlin...|\n",
      "| Brigham Circle|  E|arg2 line service...|             topstor|\n",
      "+---------------+---+--------------------+--------------------+\n",
      "only showing top 10 rows\n",
      "\n"
     ]
    }
   ],
   "source": [
    "####Show data frame after dropping unrelated columns \n",
    "unioned_df.show(10)"
   ]
  },
  {
   "cell_type": "markdown",
   "metadata": {},
   "source": [
    "#### 5. Select the very top category by using multiple split \n",
    "#### "
   ]
  },
  {
   "cell_type": "code",
   "execution_count": 13,
   "metadata": {},
   "outputs": [],
   "source": [
    "from pyspark.sql.functions import split\n",
    "split_col = split(unioned_df['category'], ',')\n",
    "unioned_df = unioned_df.withColumn('category', split_col.getItem(0))"
   ]
  },
  {
   "cell_type": "code",
   "execution_count": 14,
   "metadata": {},
   "outputs": [
    {
     "name": "stdout",
     "output_type": "stream",
     "text": [
      "+---------------+---+--------------------+--------------------+\n",
      "|            np1|np2|             context|            category|\n",
      "+---------------+---+--------------------+--------------------+\n",
      "|    Dark Knight|  E|  arg1 and Wall arg2|intlnews topstor ...|\n",
      "|    Carotenoids|  E|arg1 and caroteno...|             topstor|\n",
      "|    Communities|  E|arg1 mobilised in...|    politics topstor|\n",
      "|    Carotenoids|  E|arg1 and caroteno...|             topstor|\n",
      "|     Coast bias|  E|arg2 is for East ...|      sports topstor|\n",
      "|Commerce office|  E|arg1 at DDD Linco...|             topstor|\n",
      "| 75-minute mark|  E|arg1 in a pulsati...|             topstor|\n",
      "| Brigham Circle|  E|      arg2 past arg1|             topstor|\n",
      "| Brigham Circle|  E| arg2 trains at arg1|localnews headlin...|\n",
      "| Brigham Circle|  E|arg2 line service...|             topstor|\n",
      "+---------------+---+--------------------+--------------------+\n",
      "only showing top 10 rows\n",
      "\n"
     ]
    }
   ],
   "source": [
    "unioned_df.show(10)"
   ]
  },
  {
   "cell_type": "code",
   "execution_count": 15,
   "metadata": {},
   "outputs": [],
   "source": [
    "split_col_2 = split(unioned_df['category'], ' ')\n",
    "unioned_df = unioned_df.withColumn('category', split_col_2.getItem(0))"
   ]
  },
  {
   "cell_type": "code",
   "execution_count": 17,
   "metadata": {},
   "outputs": [],
   "source": [
    "split_col_3 = split(unioned_df['category'], '_')\n",
    "unioned_df = unioned_df.withColumn('category', split_col_3.getItem(0))"
   ]
  },
  {
   "cell_type": "code",
   "execution_count": 18,
   "metadata": {},
   "outputs": [],
   "source": [
    "split_col_4 = split(unioned_df['category'], '-')\n",
    "unioned_df = unioned_df.withColumn('category', split_col_4.getItem(0))"
   ]
  },
  {
   "cell_type": "code",
   "execution_count": 53,
   "metadata": {},
   "outputs": [
    {
     "name": "stdout",
     "output_type": "stream",
     "text": [
      "+---------------+---+--------------------+---------+\n",
      "|            np1|np2|             context| category|\n",
      "+---------------+---+--------------------+---------+\n",
      "|    Dark Knight|  E|  arg1 and Wall arg2| intlnews|\n",
      "|    Carotenoids|  E|arg1 and caroteno...|  topstor|\n",
      "|    Communities|  E|arg1 mobilised in...| politics|\n",
      "|    Carotenoids|  E|arg1 and caroteno...|  topstor|\n",
      "|     Coast bias|  E|arg2 is for East ...|   sports|\n",
      "|Commerce office|  E|arg1 at DDD Linco...|  topstor|\n",
      "| 75-minute mark|  E|arg1 in a pulsati...|  topstor|\n",
      "| Brigham Circle|  E|      arg2 past arg1|  topstor|\n",
      "| Brigham Circle|  E| arg2 trains at arg1|localnews|\n",
      "| Brigham Circle|  E|arg2 line service...|  topstor|\n",
      "+---------------+---+--------------------+---------+\n",
      "only showing top 10 rows\n",
      "\n"
     ]
    }
   ],
   "source": [
    "#### Show data frame after filtering the category\n",
    "unioned_df.show(10)"
   ]
  },
  {
   "cell_type": "markdown",
   "metadata": {},
   "source": [
    "#### 6. Category (label) insight \n",
    "#### "
   ]
  },
  {
   "cell_type": "code",
   "execution_count": 22,
   "metadata": {},
   "outputs": [
    {
     "name": "stdout",
     "output_type": "stream",
     "text": [
      "+------------+-------+\n",
      "|    category|  count|\n",
      "+------------+-------+\n",
      "|      ciridi|     70|\n",
      "|      travel|    890|\n",
      "|      cirmus|     76|\n",
      "|      cirrfs|      2|\n",
      "|      cirngc|      3|\n",
      "|regionalnews|1280737|\n",
      "|      cirhge|   2520|\n",
      "|      launch|   3652|\n",
      "|      cirmec|    171|\n",
      "|      cje2ds|     51|\n",
      "|      cje2de|    223|\n",
      "|      cirsvu|      3|\n",
      "|      cirgha|    279|\n",
      "|      cirhw6|   3173|\n",
      "|       cirgw|    367|\n",
      "|      cje3fq|     54|\n",
      "|      cje2fa|     43|\n",
      "|      cirlwu|      2|\n",
      "|      cirida|  14761|\n",
      "|      cirfvc|   1809|\n",
      "+------------+-------+\n",
      "only showing top 20 rows\n",
      "\n"
     ]
    }
   ],
   "source": [
    "#### Get some insight of the label \n",
    "unioned_df.groupBy(\"category\").count().show()"
   ]
  },
  {
   "cell_type": "code",
   "execution_count": 43,
   "metadata": {},
   "outputs": [],
   "source": [
    "#### Filter out the null and empty category \n",
    "unioned_df = unioned_df.filter(unioned_df.category.isNotNull())\n",
    "unioned_df = unioned_df.filter(unioned_df.category != '')"
   ]
  },
  {
   "cell_type": "code",
   "execution_count": 44,
   "metadata": {},
   "outputs": [
    {
     "data": {
      "text/plain": [
       "[Row(distinct_label=1115)]"
      ]
     },
     "execution_count": 44,
     "metadata": {},
     "output_type": "execute_result"
    }
   ],
   "source": [
    "#### More insight \n",
    "from pyspark.sql.functions import countDistinct\n",
    "unioned_df.agg(countDistinct(unioned_df.category).alias('distinct_label')).collect()\n",
    "##### We can see we have around 1116 distinct labels which some of it does not make any sense so we dicided to filter it out "
   ]
  },
  {
   "cell_type": "markdown",
   "metadata": {},
   "source": [
    "#### 7. Using the SQL to filter the category (label)\n",
    "#### "
   ]
  },
  {
   "cell_type": "code",
   "execution_count": 46,
   "metadata": {},
   "outputs": [],
   "source": [
    "\n",
    "import pyspark.sql as sql\n",
    "count_df.createOrReplaceTempView(\"count_df\")\n",
    "count_rank_df = spark.sql(\"SELECT category, count FROM count_df ORDER BY count DESC LIMIT 15\")"
   ]
  },
  {
   "cell_type": "code",
   "execution_count": 47,
   "metadata": {},
   "outputs": [
    {
     "name": "stdout",
     "output_type": "stream",
     "text": [
      "+-------------+--------+\n",
      "|     category|   count|\n",
      "+-------------+--------+\n",
      "|      topstor|85027590|\n",
      "|    localnews|40174779|\n",
      "|       sports|22925153|\n",
      "|     business|20017107|\n",
      "| nationalnews| 5073191|\n",
      "|     intlnews| 4252106|\n",
      "|    technolog| 2546612|\n",
      "|entertainment| 2359067|\n",
      "|     politics| 2092784|\n",
      "|     lifestle| 1785076|\n",
      "| regionalnews| 1280737|\n",
      "|       health|  980067|\n",
      "|        world|  705658|\n",
      "|           gf|  558948|\n",
      "|      science|  533434|\n",
      "+-------------+--------+\n",
      "\n"
     ]
    }
   ],
   "source": [
    "count_rank_df.show(15)"
   ]
  },
  {
   "cell_type": "code",
   "execution_count": 49,
   "metadata": {},
   "outputs": [],
   "source": [
    "unioned_df.createOrReplaceTempView(\"unioned_df\")\n",
    "count_rank_df.createOrReplaceTempView(\"count_rank_df\")\n",
    "df_final = spark.sql(\"SELECT * FROM unioned_df WHERE unioned_df.category IN (SELECT category FROM count_rank_df)\")"
   ]
  },
  {
   "cell_type": "code",
   "execution_count": 50,
   "metadata": {},
   "outputs": [
    {
     "name": "stdout",
     "output_type": "stream",
     "text": [
      "+---------------+---+--------------------+---------+\n",
      "|            np1|np2|             context| category|\n",
      "+---------------+---+--------------------+---------+\n",
      "|    Dark Knight|  E|  arg1 and Wall arg2| intlnews|\n",
      "|    Carotenoids|  E|arg1 and caroteno...|  topstor|\n",
      "|    Communities|  E|arg1 mobilised in...| politics|\n",
      "|    Carotenoids|  E|arg1 and caroteno...|  topstor|\n",
      "|     Coast bias|  E|arg2 is for East ...|   sports|\n",
      "|Commerce office|  E|arg1 at DDD Linco...|  topstor|\n",
      "| 75-minute mark|  E|arg1 in a pulsati...|  topstor|\n",
      "| Brigham Circle|  E|      arg2 past arg1|  topstor|\n",
      "| Brigham Circle|  E| arg2 trains at arg1|localnews|\n",
      "| Brigham Circle|  E|arg2 line service...|  topstor|\n",
      "+---------------+---+--------------------+---------+\n",
      "only showing top 10 rows\n",
      "\n"
     ]
    }
   ],
   "source": [
    "df_final.show(10)"
   ]
  },
  {
   "cell_type": "code",
   "execution_count": 51,
   "metadata": {},
   "outputs": [
    {
     "data": {
      "text/plain": [
       "[Row(distinct_label=15)]"
      ]
     },
     "execution_count": 51,
     "metadata": {},
     "output_type": "execute_result"
    }
   ],
   "source": [
    "df_final.agg(countDistinct(df_final.category).alias('distinct_label')).collect()"
   ]
  },
  {
   "cell_type": "code",
   "execution_count": 52,
   "metadata": {},
   "outputs": [
    {
     "name": "stdout",
     "output_type": "stream",
     "text": [
      "+-------------+--------+\n",
      "|     category|   count|\n",
      "+-------------+--------+\n",
      "| regionalnews| 1280737|\n",
      "|      topstor|85027590|\n",
      "|     lifestle| 1785076|\n",
      "|           gf|  558948|\n",
      "|     politics| 2092784|\n",
      "|      science|  533434|\n",
      "|       health|  980067|\n",
      "|    technolog| 2546612|\n",
      "|       sports|22925153|\n",
      "|        world|  705658|\n",
      "|entertainment| 2359067|\n",
      "| nationalnews| 5073191|\n",
      "|     business|20017107|\n",
      "|    localnews|40174779|\n",
      "|     intlnews| 4252106|\n",
      "+-------------+--------+\n",
      "\n"
     ]
    }
   ],
   "source": [
    "#### Verfied the final data frame \n",
    "df_final.groupBy(\"category\").count().show()"
   ]
  }
 ],
 "metadata": {
  "kernelspec": {
   "display_name": "Python 3",
   "language": "python",
   "name": "python3"
  },
  "language_info": {
   "codemirror_mode": {
    "name": "ipython",
    "version": 3
   },
   "file_extension": ".py",
   "mimetype": "text/x-python",
   "name": "python",
   "nbconvert_exporter": "python",
   "pygments_lexer": "ipython3",
   "version": "3.7.6"
  }
 },
 "nbformat": 4,
 "nbformat_minor": 4
}
